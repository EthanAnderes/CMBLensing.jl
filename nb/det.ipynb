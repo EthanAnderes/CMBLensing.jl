{
 "cells": [
  {
   "cell_type": "markdown",
   "metadata": {
    "deletable": true,
    "editable": true
   },
   "source": [
    "# Run the calculation:"
   ]
  },
  {
   "cell_type": "code",
   "execution_count": 1,
   "metadata": {
    "collapsed": false,
    "deletable": true,
    "editable": true
   },
   "outputs": [
    {
     "name": "stderr",
     "output_type": "stream",
     "text": [
      "--------------------------------------------------------------------------\n",
      "WARNING: Open MPI will create a shared memory backing file in a\n",
      "directory that appears to be mounted on a network filesystem.\n",
      "Creating the shared memory backup file on a network file system, such\n",
      "as NFS or Lustre is not recommended -- it may cause excessive network\n",
      "traffic to your file servers and/or cause shared memory traffic in\n",
      "Open MPI to be much slower than expected.\n",
      "\n",
      "You may want to check what the typical temporary directory is on your\n",
      "node.  Possible sources of the location of this temporary directory\n",
      "include the $TEMPDIR, $TEMP, and $TMP environment variables.\n",
      "\n",
      "Note, too, that system administrators can set a list of filesystems\n",
      "where Open MPI is disallowed from creating temporary files by settings\n",
      "the MCA parameter \"orte_no_session_dir\".\n",
      "\n",
      "  Local host: bq041\n",
      "  Fileame:    /wrk/mmillea/openmpi-sessions-mmillea@bq041_0/43169/1/shared_mem_pool.bq041\n",
      "\n",
      "You can set the MCA paramter shmem_mmap_enable_nfs_warning to 0 to\n",
      "disable this message.\n",
      "--------------------------------------------------------------------------\n",
      "[bq041:10547] 1 more process has sent help message help-opal-shmem-mmap.txt / mmap on nfs\n",
      "[bq041:10547] Set MCA parameter \"orte_base_help_aggregate\" to 0 to see all help / error messages\n"
     ]
    }
   ],
   "source": [
    "# on Magique3:\n",
    "using MPI\n",
    "addprocs(MPIManager(np=80));\n",
    "\n",
    "# on CORI:\n",
    "# using ClusterManagers\n",
    "# addprocs_slurm(64)"
   ]
  },
  {
   "cell_type": "code",
   "execution_count": 1,
   "metadata": {
    "collapsed": false,
    "deletable": true,
    "editable": true
   },
   "outputs": [
    {
     "name": "stderr",
     "output_type": "stream",
     "text": [
      "WARNING: Method definition inv(Base.LinAlg.Diagonal{T} where T) in module LinAlg at linalg/diagonal.jl:322 overwritten in module CMBLensing at /home/marius/.julia/v0.6/CMBLensing/src/flat_s0s2.jl:73.\n"
     ]
    }
   ],
   "source": [
    "@everywhere using CMBLensing\n",
    "using CMBLensing: ode4\n",
    "using PyPlot\n",
    "using PyCall\n",
    "using JLD\n",
    "\n",
    "@pyimport seaborn as sns\n",
    "sns.set_context(\"paper\",font_scale=1.4,rc=Dict(\"lines.markeredgewidth\"=>1))\n",
    "sns.set_palette(\"colorblind\")\n",
    "sns.set_style(\"ticks\",Dict(\"xtick.direction\"=>\"in\",\"ytick.direction\"=>\"in\"))"
   ]
  },
  {
   "cell_type": "code",
   "execution_count": 2,
   "metadata": {
    "collapsed": true,
    "deletable": true,
    "editable": true
   },
   "outputs": [],
   "source": [
    "cls = class(lmax=8000);"
   ]
  },
  {
   "cell_type": "code",
   "execution_count": 3,
   "metadata": {
    "collapsed": true,
    "deletable": true,
    "editable": true
   },
   "outputs": [],
   "source": [
    "@everywhere function matrix{F<:Field}(::Type{F}, L::LinOp)\n",
    "    hcat(((F(L*(x=zeros(length(F)); x[i]=1; x)[Tuple{F}]))[:] for i=1:length(F))...);\n",
    "end"
   ]
  },
  {
   "cell_type": "code",
   "execution_count": 4,
   "metadata": {
    "collapsed": true,
    "deletable": true,
    "editable": true
   },
   "outputs": [],
   "source": [
    "@everywhere begin \n",
    "    Θpix, nside, T = 1, 64, Float64\n",
    "    P = Flat{Θpix,nside}\n",
    "end"
   ]
  },
  {
   "cell_type": "code",
   "execution_count": 22,
   "metadata": {
    "collapsed": false,
    "deletable": true,
    "editable": true
   },
   "outputs": [],
   "source": [
    "Nℓϕϕ = @. readdlm(\"../dat/noise_dd.dat\")[:]*(2:3000)^-2.\n",
    "# the file the EB-noise, factor of 10 approximates the temp-only curve\n",
    "Nℓϕϕ = 10 .* [Nℓϕϕ; @. Nℓϕϕ[end]*((3000:8000)/3000)^-1];"
   ]
  },
  {
   "cell_type": "code",
   "execution_count": 5,
   "metadata": {
    "collapsed": false
   },
   "outputs": [
    {
     "data": {
      "text/plain": [
       "CMBLensing.FullDiagOp{CMBLensing.FlatS0Fourier{Float64,CMBLensing.Flat{1,64}},CMBLensing.Flat{1,64},CMBLensing.S0,CMBLensing.Fourier}(CMBLensing.FlatS0Fourier{Float64,CMBLensing.Flat{1,64}}(Complex{Float64}[0.0+0.0im 1.3469e-17+0.0im … 3.01489e-19+0.0im 1.3469e-17+0.0im; 1.3469e-17+0.0im 2.09333e-18+0.0im … 1.60169e-19+0.0im 2.09333e-18+0.0im; … ; 0.0+0.0im 0.0+0.0im … 0.0+0.0im 0.0+0.0im; 0.0+0.0im 0.0+0.0im … 0.0+0.0im 0.0+0.0im]))"
      ]
     },
     "execution_count": 5,
     "metadata": {},
     "output_type": "execute_result"
    }
   ],
   "source": [
    "P = Flat{Θpix,nside}\n",
    "\n",
    "## covariances in the right pixelization\n",
    "Cϕ = Cℓ_to_cov(T,P,S0,cls[:ℓ], cls[:ϕϕ])"
   ]
  },
  {
   "cell_type": "code",
   "execution_count": 8,
   "metadata": {
    "collapsed": false
   },
   "outputs": [
    {
     "data": {
      "text/plain": [
       "CMBLensing.FlatS0Fourier{Float64,CMBLensing.Flat{1,64}}(Complex{Float64}[-0.0+0.0im -3.61828e-12+1.07773e-11im … -1.54544e-12+8.13523e-13im -3.61828e-12-1.07773e-11im; 7.0656e-12-5.02151e-12im -3.51654e-12+1.89892e-12im … 1.67325e-13+7.00386e-13im 2.29157e-12-4.79154e-12im; … ; -0.0+0.0im 0.0-0.0im … -0.0+0.0im 0.0-0.0im; -0.0+0.0im -0.0+0.0im … 0.0+0.0im 0.0-0.0im])"
      ]
     },
     "execution_count": 8,
     "metadata": {},
     "output_type": "execute_result"
    }
   ],
   "source": [
    "ϕ = simulate(Cϕ)"
   ]
  },
  {
   "cell_type": "code",
   "execution_count": 10,
   "metadata": {
    "collapsed": false
   },
   "outputs": [
    {
     "data": {
      "text/html": [
       "-2.9971784400772985"
      ],
      "text/plain": [
       "-2.9971784400772985"
      ]
     },
     "execution_count": 10,
     "metadata": {},
     "output_type": "execute_result"
    }
   ],
   "source": [
    "real(logdet(complex(matrix(FlatS0Map{T,P},PowerLens{7}(0.1ϕ)))))"
   ]
  },
  {
   "cell_type": "code",
   "execution_count": 11,
   "metadata": {
    "collapsed": false,
    "deletable": true,
    "editable": true
   },
   "outputs": [
    {
     "name": "stdout",
     "output_type": "stream",
     "text": [
      "201.361629 seconds (309.98 k allocations: 40.793 MiB, 0.03% gc time)\n"
     ]
    }
   ],
   "source": [
    "nsides = [8,16,32,64]\n",
    "\n",
    "@time dat = map(nsides) do nside \n",
    "\n",
    "    P = Flat{Θpix,nside}\n",
    "    \n",
    "    ## covariances in the right pixelization\n",
    "    Cϕ = Cℓ_to_cov(T,P,S0,cls[:ℓ], cls[:ϕϕ])\n",
    "    Nϕ = Cℓ_to_cov(T,P,S0,2:8001, Nℓϕϕ)\n",
    "    \n",
    "    # our expected best-fit ϕ comes from S(S+N)⁻¹S\n",
    "    ϕwf = simulate(@. nan2zero(Cϕ * (Cϕ + Nϕ)^-1 * Cϕ))\n",
    "    \n",
    "    L = PowerLens{7}\n",
    "    \n",
    "    pmap(1:160) do _ \n",
    "        # samples from the posterior come from an additional S(S+N)⁻¹N ontop of that\n",
    "        let ϕ = ϕwf + simulate(@. nan2zero(Cϕ * (Cϕ + Nϕ)^-1 * Nϕ))\n",
    "            ϕ⋅(Squash*(Cϕ\\ϕ)), real(logdet(complex(matrix(FlatS0Map{T,P},L(ϕ)))))\n",
    "        end\n",
    "    end\n",
    "end;"
   ]
  },
  {
   "cell_type": "code",
   "execution_count": 12,
   "metadata": {
    "collapsed": false,
    "deletable": true,
    "editable": true
   },
   "outputs": [],
   "source": [
    "save(\"../dat/lnP_terms_1arcmin_pl7.jld\",\"dat\",dat)"
   ]
  },
  {
   "cell_type": "markdown",
   "metadata": {
    "deletable": true,
    "editable": true
   },
   "source": [
    "# Make the plot:"
   ]
  },
  {
   "cell_type": "code",
   "execution_count": 16,
   "metadata": {
    "collapsed": false,
    "deletable": true,
    "editable": true
   },
   "outputs": [],
   "source": [
    "dat = load(\"../dat/lnP_terms_1arcmin_pl7.jld\",\"dat\");"
   ]
  },
  {
   "cell_type": "code",
   "execution_count": 18,
   "metadata": {
    "collapsed": false,
    "deletable": true,
    "editable": true
   },
   "outputs": [
    {
     "data": {
      "image/png": "[encoded data removed]",
      "text/plain": [
       "PyPlot.Figure(PyObject <matplotlib.figure.Figure object at 0x2aab36bb9470>)"
      ]
     },
     "metadata": {},
     "output_type": "display_data"
    }
   ],
   "source": [
    "loglog(nsides.^2, [std(getindex.(d,1)) for d=dat]./(√2nsides), \".-\")\n",
    "loglog(nsides.^2, [std(getindex.(d,2)) for d=dat]./(√2nsides), \".-\")  \n",
    "\n",
    "\n",
    "legend([\"prior term\",\"determinant term\"],loc=\"lower right\")\n",
    "ylim(1e-2,1e2)\n",
    "yscale(\"log\")\n",
    "xlabel(raw\"$N$ - Number of pixels\")\n",
    "ylabel(raw\"$\\sigma(\\ln \\mathcal{P}) / \\sqrt{2N}$\")\n",
    "xlim(40,8e3)\n",
    "savefig(\"../paper/figs/lnP_terms.pdf\",bbox_inches=\"tight\")"
   ]
  }
 ],
 "metadata": {
  "kernelspec": {
   "display_name": "Julia 0.6.0-dev",
   "language": "julia",
   "name": "julia-0.6"
  },
  "language_info": {
   "file_extension": ".jl",
   "mimetype": "application/julia",
   "name": "julia",
   "version": "0.6.0"
  }
 },
 "nbformat": 4,
 "nbformat_minor": 2
}
