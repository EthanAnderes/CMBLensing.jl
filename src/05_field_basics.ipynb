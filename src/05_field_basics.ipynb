{
 "cells": [
  {
   "cell_type": "code",
   "execution_count": 4,
   "metadata": {
    "Collapsed": "false"
   },
   "outputs": [],
   "source": [
    "using CMBLensing"
   ]
  },
  {
   "cell_type": "markdown",
   "metadata": {
    "Collapsed": "false"
   },
   "source": [
    "# Field Basics"
   ]
  },
  {
   "cell_type": "markdown",
   "metadata": {
    "Collapsed": "false"
   },
   "source": [
    "## Base Fields\n",
    "\n",
    "Much of CMBLensing is based on manipilating CMB \"fields\", like temperature, Q or U polarization, or the lensing potential $\\phi$. These types are all encompassed by the abstract type `Field`, with some concrete examples including `FlatMap` for a flat-sky map projection, or `FlatQUMap` for Q/U polarization, etc..."
   ]
  },
  {
   "cell_type": "markdown",
   "metadata": {
    "Collapsed": "false"
   },
   "source": [
    "`Flat` fields are just thing wrappers around Julia arrays, e.g."
   ]
  },
  {
   "cell_type": "code",
   "execution_count": 5,
   "metadata": {
    "Collapsed": "false"
   },
   "outputs": [
    {
     "data": {
      "text/plain": [
       "2×2 Array{Float64,2}:\n",
       " 0.732042  0.182965\n",
       " 0.998787  0.732902"
      ]
     },
     "execution_count": 5,
     "metadata": {},
     "output_type": "execute_result"
    }
   ],
   "source": [
    "Ix = rand(2,2)"
   ]
  },
  {
   "cell_type": "code",
   "execution_count": 6,
   "metadata": {
    "Collapsed": "false"
   },
   "outputs": [
    {
     "data": {
      "text/plain": [
       "4-element FlatMap{2×2 map, 1′ pixels, fourier∂, Array{Float64}}:\n",
       " 0.7320418196232326 \n",
       " 0.9987870573048432 \n",
       " 0.18296504638359612\n",
       " 0.7329019559062799 "
      ]
     },
     "execution_count": 6,
     "metadata": {},
     "output_type": "execute_result"
    }
   ],
   "source": [
    "f = FlatMap(Ix)"
   ]
  },
  {
   "cell_type": "markdown",
   "metadata": {
    "Collapsed": "false"
   },
   "source": [
    "You can see the pixels in the 2x2 map have been splayed out into a length-4 array (at least for displaying purposes). This is intentional, as even though the maps themselves are two-dimensional, it is extremely useful conceptually to think of fields as vectors (which they are, in fact, as they form an [abstract vector space](https://en.wikipedia.org/wiki/Vector_space)). This tie to vector spaces is deeply rooted in CMBLensing, to the extent that `Field` objects are a subtype of Julia's own `AbstractVector` type, "
   ]
  },
  {
   "cell_type": "code",
   "execution_count": 7,
   "metadata": {
    "Collapsed": "false"
   },
   "outputs": [
    {
     "data": {
      "text/plain": [
       "true"
      ]
     },
     "execution_count": 7,
     "metadata": {},
     "output_type": "execute_result"
    }
   ],
   "source": [
    "f isa AbstractVector"
   ]
  },
  {
   "cell_type": "markdown",
   "metadata": {
    "Collapsed": "false"
   },
   "source": [
    "That said, the data itself is stored as the original 2x2 matrix, and can be accessed as follows,"
   ]
  },
  {
   "cell_type": "code",
   "execution_count": 8,
   "metadata": {
    "Collapsed": "false"
   },
   "outputs": [
    {
     "data": {
      "text/plain": [
       "2×2 Array{Float64,2}:\n",
       " 0.732042  0.182965\n",
       " 0.998787  0.732902"
      ]
     },
     "execution_count": 8,
     "metadata": {},
     "output_type": "execute_result"
    }
   ],
   "source": [
    "f.Ix"
   ]
  },
  {
   "cell_type": "markdown",
   "metadata": {
    "Collapsed": "false"
   },
   "source": [
    "But since `Fields` are vectors, they can be tranposed,"
   ]
  },
  {
   "cell_type": "code",
   "execution_count": 9,
   "metadata": {
    "Collapsed": "false"
   },
   "outputs": [
    {
     "data": {
      "text/plain": [
       "1×4 LinearAlgebra.Adjoint{Float64,FlatMap{2×2 map, 1′ pixels, fourier∂, Array{Float64}}}:\n",
       " 0.732042  0.998787  0.182965  0.732902"
      ]
     },
     "execution_count": 9,
     "metadata": {},
     "output_type": "execute_result"
    }
   ],
   "source": [
    "f'"
   ]
  },
  {
   "cell_type": "markdown",
   "metadata": {
    "Collapsed": "false"
   },
   "source": [
    "inner products can be computed,"
   ]
  },
  {
   "cell_type": "code",
   "execution_count": 10,
   "metadata": {
    "Collapsed": "false"
   },
   "outputs": [
    {
     "data": {
      "text/plain": [
       "1.7803892228763662e-7"
      ]
     },
     "execution_count": 10,
     "metadata": {},
     "output_type": "execute_result"
    }
   ],
   "source": [
    "f' * f"
   ]
  },
  {
   "cell_type": "markdown",
   "metadata": {
    "Collapsed": "false"
   },
   "source": [
    "and they can be added with each other as well as multiplied by scalars,"
   ]
  },
  {
   "cell_type": "code",
   "execution_count": 11,
   "metadata": {
    "Collapsed": "false"
   },
   "outputs": [
    {
     "data": {
      "text/plain": [
       "4-element FlatMap{2×2 map, 1′ pixels, fourier∂, Array{Float64}}:\n",
       " 2.1961254588696977\n",
       " 2.9963611719145296\n",
       " 0.5488951391507884\n",
       " 2.19870586771884  "
      ]
     },
     "execution_count": 11,
     "metadata": {},
     "output_type": "execute_result"
    }
   ],
   "source": [
    "2*f+f"
   ]
  },
  {
   "cell_type": "markdown",
   "metadata": {
    "Collapsed": "false"
   },
   "source": [
    "## Diagonal operators"
   ]
  },
  {
   "cell_type": "markdown",
   "metadata": {
    "Collapsed": "false"
   },
   "source": [
    "Vector spaces have linear operators which act on the vectors. Linear operators correpsond to matrices, thus for a map with $N$ total pixels, a general linear operator would be an $N$-by-$N$ matrix, which for even modest map sizes becomes far too large to actually store. Thus, an important class of linear operators are ones which are diagonal, since these can actually be stored. CMBLensing uses Julia's builtin `Diagonal` to represent these. `Diagonal(f)` takes a vector `f` and puts it on the diagonal of the matrix:"
   ]
  },
  {
   "cell_type": "code",
   "execution_count": 12,
   "metadata": {
    "Collapsed": "false"
   },
   "outputs": [
    {
     "data": {
      "text/plain": [
       "4×4 Diagonal{Float64,FlatMap{2×2 map, 1′ pixels, fourier∂, Array{Float64}}}:\n",
       " 0.732042   ⋅         ⋅         ⋅      \n",
       "  ⋅        0.998787   ⋅         ⋅      \n",
       "  ⋅         ⋅        0.182965   ⋅      \n",
       "  ⋅         ⋅         ⋅        0.732902"
      ]
     },
     "execution_count": 12,
     "metadata": {},
     "output_type": "execute_result"
    }
   ],
   "source": [
    "Diagonal(f)"
   ]
  },
  {
   "cell_type": "markdown",
   "metadata": {
    "Collapsed": "false"
   },
   "source": [
    "Multiplying this operator by the original map is then a matrix-vector product:"
   ]
  },
  {
   "cell_type": "code",
   "execution_count": 13,
   "metadata": {
    "Collapsed": "false"
   },
   "outputs": [
    {
     "data": {
      "text/plain": [
       "4-element FlatMap{2×2 map, 1′ pixels, fourier∂, Array{Float64}}:\n",
       " 0.5358852256772934 \n",
       " 0.9975755858396681 \n",
       " 0.03347620819815148\n",
       " 0.5371452769712507 "
      ]
     },
     "execution_count": 13,
     "metadata": {},
     "output_type": "execute_result"
    }
   ],
   "source": [
    "Diagonal(f) * f"
   ]
  },
  {
   "cell_type": "markdown",
   "metadata": {
    "Collapsed": "false"
   },
   "source": [
    "Note that this is also equal to the the pointwise multiplication of `f` with itself:"
   ]
  },
  {
   "cell_type": "code",
   "execution_count": 14,
   "metadata": {
    "Collapsed": "false"
   },
   "outputs": [
    {
     "data": {
      "text/plain": [
       "4-element FlatMap{2×2 map, 1′ pixels, fourier∂, Array{Float64}}:\n",
       " 0.5358852256772934 \n",
       " 0.9975755858396681 \n",
       " 0.03347620819815148\n",
       " 0.5371452769712507 "
      ]
     },
     "execution_count": 14,
     "metadata": {},
     "output_type": "execute_result"
    }
   ],
   "source": [
    "f .* f"
   ]
  },
  {
   "cell_type": "markdown",
   "metadata": {
    "Collapsed": "false"
   },
   "source": [
    "## Field Tuples"
   ]
  },
  {
   "cell_type": "markdown",
   "metadata": {
    "Collapsed": "false"
   },
   "source": [
    "You can put `Fields` together into tuples. For example, "
   ]
  },
  {
   "cell_type": "code",
   "execution_count": 158,
   "metadata": {
    "Collapsed": "false"
   },
   "outputs": [],
   "source": [
    "a = FlatMap(rand(2,2))\n",
    "b = FlatMap(rand(2,2));"
   ]
  },
  {
   "cell_type": "code",
   "execution_count": 159,
   "metadata": {
    "Collapsed": "false"
   },
   "outputs": [
    {
     "data": {
      "text/plain": [
       "8-element Field2Tuple{CMBLensing.BasisTuple{Tuple{Map,Map}}, Float64}:\n",
       " 0.5505235821680978  \n",
       " 0.950054953812133   \n",
       " 0.014057456492081677\n",
       " 0.36803238748144085 \n",
       " 0.006160415105918249\n",
       " 0.36772974041695905 \n",
       " 0.7377151845932439  \n",
       " 0.3910706904663759  "
      ]
     },
     "execution_count": 159,
     "metadata": {},
     "output_type": "execute_result"
    }
   ],
   "source": [
    "FieldTuple(a,b)"
   ]
  },
  {
   "cell_type": "markdown",
   "metadata": {
    "Collapsed": "false"
   },
   "source": [
    "The components can also have names:"
   ]
  },
  {
   "cell_type": "code",
   "execution_count": 160,
   "metadata": {
    "Collapsed": "false"
   },
   "outputs": [
    {
     "data": {
      "text/plain": [
       "8-element Field2Tuple{(:a, :b), CMBLensing.BasisTuple{Tuple{Map,Map}}, Float64}:\n",
       " 0.5505235821680978  \n",
       " 0.950054953812133   \n",
       " 0.014057456492081677\n",
       " 0.36803238748144085 \n",
       " 0.006160415105918249\n",
       " 0.36772974041695905 \n",
       " 0.7377151845932439  \n",
       " 0.3910706904663759  "
      ]
     },
     "execution_count": 160,
     "metadata": {},
     "output_type": "execute_result"
    }
   ],
   "source": [
    "ft = FieldTuple(a=a, b=b)"
   ]
  },
  {
   "cell_type": "markdown",
   "metadata": {
    "Collapsed": "false"
   },
   "source": [
    "which can be accessed later:"
   ]
  },
  {
   "cell_type": "code",
   "execution_count": 162,
   "metadata": {
    "Collapsed": "false"
   },
   "outputs": [
    {
     "data": {
      "text/plain": [
       "4-element FlatMap{2×2 map, 1′ pixels, fourier∂, Array{Float64}}:\n",
       " 0.5505235821680978  \n",
       " 0.950054953812133   \n",
       " 0.014057456492081677\n",
       " 0.36803238748144085 "
      ]
     },
     "execution_count": 162,
     "metadata": {},
     "output_type": "execute_result"
    }
   ],
   "source": [
    "ft.a"
   ]
  },
  {
   "cell_type": "markdown",
   "metadata": {
    "Collapsed": "false"
   },
   "source": [
    "`FieldTuples` have all of the same behavior of individual fields. Indeed, spin fields like QU or IQU are simply special `FieldTuples`:"
   ]
  },
  {
   "cell_type": "code",
   "execution_count": 166,
   "metadata": {
    "Collapsed": "false"
   },
   "outputs": [
    {
     "data": {
      "text/plain": [
       "true"
      ]
     },
     "execution_count": 166,
     "metadata": {},
     "output_type": "execute_result"
    }
   ],
   "source": [
    "FlatQUMap(Q=a, U=b) isa FieldTuple"
   ]
  },
  {
   "cell_type": "markdown",
   "metadata": {
    "Collapsed": "false"
   },
   "source": [
    "## Field Vectors"
   ]
  },
  {
   "cell_type": "markdown",
   "metadata": {
    "Collapsed": "false"
   },
   "source": [
    "*in progress*"
   ]
  },
  {
   "cell_type": "markdown",
   "metadata": {
    "Collapsed": "false"
   },
   "source": [
    "## Basis Conversion"
   ]
  },
  {
   "cell_type": "markdown",
   "metadata": {
    "Collapsed": "false"
   },
   "source": [
    "All fields are tagged as to which basis they are stored in. You can convert them to other bases by calling the basis type on them:"
   ]
  },
  {
   "cell_type": "code",
   "execution_count": 58,
   "metadata": {
    "Collapsed": "false"
   },
   "outputs": [
    {
     "data": {
      "text/plain": [
       "4-element FlatMap{2×2 map, 1′ pixels, fourier∂, Array{Float64}}:\n",
       " 0.7320418196232326 \n",
       " 0.9987870573048432 \n",
       " 0.18296504638359612\n",
       " 0.7329019559062799 "
      ]
     },
     "execution_count": 58,
     "metadata": {},
     "output_type": "execute_result"
    }
   ],
   "source": [
    "f"
   ]
  },
  {
   "cell_type": "code",
   "execution_count": 59,
   "metadata": {
    "Collapsed": "false"
   },
   "outputs": [
    {
     "data": {
      "text/plain": [
       "4-element FlatFourier{2×2 map, 1′ pixels, fourier∂, Array{Complex{Float64}}}:\n",
       "   3.564317699947486e-8 + 0.0im\n",
       " -1.0998296613404274e-8 + 0.0im\n",
       "   1.097512962242427e-8 + 0.0im\n",
       "   3.813755469023178e-9 + 0.0im"
      ]
     },
     "execution_count": 59,
     "metadata": {},
     "output_type": "execute_result"
    }
   ],
   "source": [
    "f′ = Fourier(f)"
   ]
  },
  {
   "cell_type": "markdown",
   "metadata": {
    "Collapsed": "false"
   },
   "source": [
    "Basis conversion is usually done automatically for you. E.g. here `f′` is automatically converted to a `FlatMap` before addition:"
   ]
  },
  {
   "cell_type": "code",
   "execution_count": 60,
   "metadata": {
    "Collapsed": "false"
   },
   "outputs": [
    {
     "data": {
      "text/plain": [
       "4-element FlatMap{2×2 map, 1′ pixels, fourier∂, Array{Float64}}:\n",
       " 1.4640836392464651 \n",
       " 1.9975741146096864 \n",
       " 0.36593009276719235\n",
       " 1.4658039118125599 "
      ]
     },
     "execution_count": 60,
     "metadata": {},
     "output_type": "execute_result"
    }
   ],
   "source": [
    "f + f′"
   ]
  },
  {
   "cell_type": "markdown",
   "metadata": {
    "Collapsed": "false"
   },
   "source": [
    "A key feature of `Diagonal` operators is they convert the field they are acting on to the right basis before multiplication:"
   ]
  },
  {
   "cell_type": "code",
   "execution_count": 61,
   "metadata": {
    "Collapsed": "false"
   },
   "outputs": [
    {
     "data": {
      "text/plain": [
       "4-element FlatMap{2×2 map, 1′ pixels, fourier∂, Array{Float64}}:\n",
       " 0.5358852256772935\n",
       " 0.9975755858396682\n",
       " 0.0334762081981515\n",
       " 0.5371452769712508"
      ]
     },
     "execution_count": 61,
     "metadata": {},
     "output_type": "execute_result"
    }
   ],
   "source": [
    "Diagonal(f) * f′"
   ]
  },
  {
   "cell_type": "markdown",
   "metadata": {
    "Collapsed": "false"
   },
   "source": [
    "A `FlatMap` times a `FlatFourier` doesn't have a natural linear algebra meaning so its an error:"
   ]
  },
  {
   "cell_type": "code",
   "execution_count": 63,
   "metadata": {
    "Collapsed": "false"
   },
   "outputs": [
    {
     "ename": "MethodError",
     "evalue": "MethodError: no method matching *(::FlatMap{2×2 map, 1′ pixels, fourier∂, Array{Float64}}, ::FlatFourier{2×2 map, 1′ pixels, fourier∂, Array{Complex{Float64}}})\nClosest candidates are:\n  *(::Any, ::Any, !Matched::Any, !Matched::Any...) at operators.jl:529\n  *(!Matched::PyCall.PyObject, ::Any) at /home/marius/.julia/packages/PyCall/ttONZ/src/pyoperators.jl:13\n  *(!Matched::FuncOp, ::Field) at /home/marius/work/baylens/src/specialops.jl:105\n  ...",
     "output_type": "error",
     "traceback": [
      "MethodError: no method matching *(::FlatMap{2×2 map, 1′ pixels, fourier∂, Array{Float64}}, ::FlatFourier{2×2 map, 1′ pixels, fourier∂, Array{Complex{Float64}}})\nClosest candidates are:\n  *(::Any, ::Any, !Matched::Any, !Matched::Any...) at operators.jl:529\n  *(!Matched::PyCall.PyObject, ::Any) at /home/marius/.julia/packages/PyCall/ttONZ/src/pyoperators.jl:13\n  *(!Matched::FuncOp, ::Field) at /home/marius/work/baylens/src/specialops.jl:105\n  ...",
      "",
      "Stacktrace:",
      " [1] top-level scope at In[63]:1"
     ]
    }
   ],
   "source": [
    "f * f′"
   ]
  },
  {
   "cell_type": "markdown",
   "metadata": {
    "Collapsed": "false"
   },
   "source": [
    "## Properties and indices"
   ]
  },
  {
   "cell_type": "markdown",
   "metadata": {
    "Collapsed": "false"
   },
   "source": [
    "`FlatMap` and `FlatFourier` can be indexed directly like arrays. If given 1D indices, this is the index into the vector representation:"
   ]
  },
  {
   "cell_type": "code",
   "execution_count": 72,
   "metadata": {
    "Collapsed": "false"
   },
   "outputs": [
    {
     "data": {
      "text/plain": [
       "4-element FlatMap{2×2 map, 1′ pixels, fourier∂, Array{Float64}}:\n",
       " 0.7320418196232326 \n",
       " 0.9987870573048432 \n",
       " 0.18296504638359612\n",
       " 0.7329019559062799 "
      ]
     },
     "execution_count": 72,
     "metadata": {},
     "output_type": "execute_result"
    }
   ],
   "source": [
    "f"
   ]
  },
  {
   "cell_type": "code",
   "execution_count": 73,
   "metadata": {
    "Collapsed": "false"
   },
   "outputs": [
    {
     "data": {
      "text/plain": [
       "(0.7320418196232326, 0.9987870573048432, 0.18296504638359612, 0.7329019559062799)"
      ]
     },
     "execution_count": 73,
     "metadata": {},
     "output_type": "execute_result"
    }
   ],
   "source": [
    "f[1], f[2], f[3], f[4]"
   ]
  },
  {
   "cell_type": "code",
   "execution_count": 74,
   "metadata": {
    "Collapsed": "false"
   },
   "outputs": [
    {
     "ename": "BoundsError",
     "evalue": "BoundsError: attempt to access 2×2 Array{Float64,2} at index [5]",
     "output_type": "error",
     "traceback": [
      "BoundsError: attempt to access 2×2 Array{Float64,2} at index [5]",
      "",
      "Stacktrace:",
      " [1] getindex at ./array.jl:728 [inlined]",
      " [2] getindex(::FlatMap{2×2 map, 1′ pixels, fourier∂, Array{Float64}}, ::Int64) at /home/marius/work/baylens/src/flat_s0.jl:23",
      " [3] top-level scope at In[74]:1"
     ]
    }
   ],
   "source": [
    "f[5]"
   ]
  },
  {
   "cell_type": "markdown",
   "metadata": {
    "Collapsed": "false"
   },
   "source": [
    "Or with a 2D index, this indexes directly into the 2D map:"
   ]
  },
  {
   "cell_type": "code",
   "execution_count": 83,
   "metadata": {
    "Collapsed": "false"
   },
   "outputs": [
    {
     "data": {
      "text/plain": [
       "(0.7320418196232326, 0.9987870573048432, 0.18296504638359612, 0.7329019559062799)"
      ]
     },
     "execution_count": 83,
     "metadata": {},
     "output_type": "execute_result"
    }
   ],
   "source": [
    "f[1,1], f[2,1], f[1,2], f[2,2]"
   ]
  },
  {
   "cell_type": "markdown",
   "metadata": {
    "Collapsed": "false"
   },
   "source": [
    "*Note:* there is no overhead to indexing `f` in this way as compared to working directly on the underlying array."
   ]
  },
  {
   "cell_type": "markdown",
   "metadata": {
    "Collapsed": "false"
   },
   "source": [
    "For other fields which are built on `FieldTuples`, 1D indexing will instead index the tuple indices:"
   ]
  },
  {
   "cell_type": "code",
   "execution_count": 88,
   "metadata": {
    "Collapsed": "false"
   },
   "outputs": [
    {
     "data": {
      "text/plain": [
       "8-element Field2Tuple{(:Q, :U), CMBLensing.BasisTuple{Tuple{Map,Map}}, Float64}:\n",
       " 0.17774917746454766\n",
       " 0.2511905982997429 \n",
       " 0.6912012950726147 \n",
       " 0.373539849474948  \n",
       " 0.39985459058015005\n",
       " 0.9001296871952931 \n",
       " 0.41989219275007916\n",
       " 0.5612169223732928 "
      ]
     },
     "execution_count": 88,
     "metadata": {},
     "output_type": "execute_result"
    }
   ],
   "source": [
    "ft"
   ]
  },
  {
   "cell_type": "code",
   "execution_count": 89,
   "metadata": {
    "Collapsed": "false"
   },
   "outputs": [
    {
     "data": {
      "text/plain": [
       "4-element FlatMap{2×2 map, 1′ pixels, fourier∂, Array{Float64}}:\n",
       " 0.17774917746454766\n",
       " 0.2511905982997429 \n",
       " 0.6912012950726147 \n",
       " 0.373539849474948  "
      ]
     },
     "execution_count": 89,
     "metadata": {},
     "output_type": "execute_result"
    }
   ],
   "source": [
    "ft[1]"
   ]
  },
  {
   "cell_type": "code",
   "execution_count": 90,
   "metadata": {
    "Collapsed": "false"
   },
   "outputs": [
    {
     "data": {
      "text/plain": [
       "4-element FlatMap{2×2 map, 1′ pixels, fourier∂, Array{Float64}}:\n",
       " 0.39985459058015005\n",
       " 0.9001296871952931 \n",
       " 0.41989219275007916\n",
       " 0.5612169223732928 "
      ]
     },
     "execution_count": 90,
     "metadata": {},
     "output_type": "execute_result"
    }
   ],
   "source": [
    "ft[2]"
   ]
  },
  {
   "cell_type": "code",
   "execution_count": 91,
   "metadata": {
    "Collapsed": "false"
   },
   "outputs": [
    {
     "ename": "BoundsError",
     "evalue": "BoundsError: attempt to access (Q = [0.17774917746454766, 0.2511905982997429, 0.6912012950726147, 0.373539849474948], U = [0.39985459058015005, 0.9001296871952931, 0.41989219275007916, 0.5612169223732928])\n  at index [3]",
     "output_type": "error",
     "traceback": [
      "BoundsError: attempt to access (Q = [0.17774917746454766, 0.2511905982997429, 0.6912012950726147, 0.373539849474948], U = [0.39985459058015005, 0.9001296871952931, 0.41989219275007916, 0.5612169223732928])\n  at index [3]",
      "",
      "Stacktrace:",
      " [1] getindex at ./namedtuple.jl:90 [inlined]",
      " [2] getindex(::Field2Tuple{(:Q, :U), CMBLensing.BasisTuple{Tuple{Map,Map}}, Float64}, ::Int64) at /home/marius/work/baylens/src/field_tuples.jl:41",
      " [3] top-level scope at In[91]:1"
     ]
    }
   ],
   "source": [
    "ft[3]"
   ]
  },
  {
   "cell_type": "markdown",
   "metadata": {
    "Collapsed": "false"
   },
   "source": [
    "To get the underlying data arrays, use the object's properties:"
   ]
  },
  {
   "cell_type": "code",
   "execution_count": 93,
   "metadata": {
    "Collapsed": "false"
   },
   "outputs": [
    {
     "data": {
      "text/plain": [
       "2×2 Array{Float64,2}:\n",
       " 0.732042  0.182965\n",
       " 0.998787  0.732902"
      ]
     },
     "execution_count": 93,
     "metadata": {},
     "output_type": "execute_result"
    }
   ],
   "source": [
    "f.Ix"
   ]
  },
  {
   "cell_type": "markdown",
   "metadata": {
    "Collapsed": "false"
   },
   "source": [
    "You can always find out what properties are available by typing `f.<Tab>`. For example, if you typed `ft` then hit `<Tab>` you'd get:"
   ]
  },
  {
   "cell_type": "code",
   "execution_count": 108,
   "metadata": {
    "Collapsed": "false"
   },
   "outputs": [
    {
     "data": {
      "text/plain": [
       "(:fs, :Q, :U, :Qx, :Ux)"
      ]
     },
     "execution_count": 108,
     "metadata": {},
     "output_type": "execute_result"
    }
   ],
   "source": [
    "ft |> propertynames"
   ]
  },
  {
   "cell_type": "markdown",
   "metadata": {
    "Collapsed": "false"
   },
   "source": [
    "For a `FieldTuple` like the `FlatQUMap` object, `ft`, you can get each individual Q or U field:"
   ]
  },
  {
   "cell_type": "code",
   "execution_count": 115,
   "metadata": {
    "Collapsed": "false"
   },
   "outputs": [
    {
     "data": {
      "text/plain": [
       "4-element FlatMap{2×2 map, 1′ pixels, fourier∂, Array{Float64}}:\n",
       " 0.6922927799412399\n",
       " 0.6961360514468293\n",
       " 0.8130790577325409\n",
       " 0.8044087072888599"
      ]
     },
     "execution_count": 115,
     "metadata": {},
     "output_type": "execute_result"
    }
   ],
   "source": [
    "ft.Q"
   ]
  },
  {
   "cell_type": "markdown",
   "metadata": {
    "Collapsed": "false"
   },
   "source": [
    "Or `ft.Qx` which is shorthand for `ft.Q.Ix`:"
   ]
  },
  {
   "cell_type": "code",
   "execution_count": 116,
   "metadata": {
    "Collapsed": "false"
   },
   "outputs": [
    {
     "data": {
      "text/plain": [
       "true"
      ]
     },
     "execution_count": 116,
     "metadata": {},
     "output_type": "execute_result"
    }
   ],
   "source": [
    "ft.Q.Ix === ft.Qx"
   ]
  },
  {
   "cell_type": "markdown",
   "metadata": {
    "Collapsed": "false"
   },
   "source": [
    "If you convert `f` to Fourier space, it would have the `Il` property to get the Fourier coefficients:"
   ]
  },
  {
   "cell_type": "code",
   "execution_count": 128,
   "metadata": {
    "Collapsed": "false"
   },
   "outputs": [
    {
     "data": {
      "text/plain": [
       "2×2 Array{Complex{Float64},2}:\n",
       "  3.56432e-8+0.0im  1.09751e-8+0.0im\n",
       " -1.09983e-8+0.0im  3.81376e-9+0.0im"
      ]
     },
     "execution_count": 128,
     "metadata": {},
     "output_type": "execute_result"
    }
   ],
   "source": [
    "Fourier(f).Il"
   ]
  },
  {
   "cell_type": "markdown",
   "metadata": {
    "Collapsed": "false"
   },
   "source": [
    "For convenience, you can also use the `[:...]` syntax which does the conversion automatically:"
   ]
  },
  {
   "cell_type": "code",
   "execution_count": 129,
   "metadata": {
    "Collapsed": "false"
   },
   "outputs": [
    {
     "data": {
      "text/plain": [
       "2×2 Array{Complex{Float64},2}:\n",
       "  3.56432e-8+0.0im  1.09751e-8+0.0im\n",
       " -1.09983e-8+0.0im  3.81376e-9+0.0im"
      ]
     },
     "execution_count": 129,
     "metadata": {},
     "output_type": "execute_result"
    }
   ],
   "source": [
    "f[:Il]"
   ]
  },
  {
   "cell_type": "markdown",
   "metadata": {
    "Collapsed": "false"
   },
   "source": [
    "This works between any bases. For example. `ft` is originally `QUMap` but we can convert to `EBFourier` and get the `El` coefficients:"
   ]
  },
  {
   "cell_type": "code",
   "execution_count": 131,
   "metadata": {
    "Collapsed": "false"
   },
   "outputs": [
    {
     "data": {
      "text/plain": [
       "2×2 Array{Complex{Float64},2}:\n",
       " -4.04808e-8-0.0im  3.08475e-9+0.0im\n",
       " 6.50065e-11+0.0im    6.633e-9+0.0im"
      ]
     },
     "execution_count": 131,
     "metadata": {},
     "output_type": "execute_result"
    }
   ],
   "source": [
    "ft[:El]"
   ]
  },
  {
   "cell_type": "markdown",
   "metadata": {
    "Collapsed": "false"
   },
   "source": [
    "The general rule for these two ways of accessing the underlying data is:\n",
    "\n",
    "* **Properties** (i.e. `f.Ix`) are type-stable and get you the underlying data arrays, even recursively from `FieldTuples`. If these arrays are modified, they affect the original field.\n",
    "* **Indices** (i.e. `f[:Ix]`) are not type-stable, and may not be one of the underlying data arrays (because a basis conversion may have been performed). They should be used for getting (not setting) data, and in non-performance-critical code. "
   ]
  }
 ],
 "metadata": {
  "kernelspec": {
   "display_name": "Julia 1.2.0",
   "language": "julia",
   "name": "julia-1.2"
  },
  "language_info": {
   "file_extension": ".jl",
   "mimetype": "application/julia",
   "name": "julia",
   "version": "1.2.0"
  }
 },
 "nbformat": 4,
 "nbformat_minor": 4
}
