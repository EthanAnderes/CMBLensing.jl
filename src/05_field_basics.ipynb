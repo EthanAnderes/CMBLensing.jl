{
 "cells": [
  {
   "cell_type": "markdown",
   "metadata": {
    "Collapsed": "false"
   },
   "source": [
    "# Field Basics"
   ]
  },
  {
   "cell_type": "code",
   "execution_count": 1,
   "metadata": {
    "Collapsed": "false"
   },
   "outputs": [],
   "source": [
    "using CMBLensing"
   ]
  },
  {
   "cell_type": "markdown",
   "metadata": {
    "Collapsed": "false"
   },
   "source": [
    "## Base Fields\n",
    "\n",
    "The basic building blocks of CMBLensing.jl are CMB \"fields\", like temperature, Q or U polarization, or the lensing potential $\\phi$. These types are all encompassed by the abstract type `Field`, with some concrete examples including `FlatMap` for a flat-sky map projection, or `FlatQUMap` for Q/U polarization, etc..."
   ]
  },
  {
   "cell_type": "markdown",
   "metadata": {
    "Collapsed": "false"
   },
   "source": [
    "`Flat` fields are just thin wrappers around Julia arrays, e.g."
   ]
  },
  {
   "cell_type": "code",
   "execution_count": 2,
   "metadata": {
    "Collapsed": "false"
   },
   "outputs": [
    {
     "data": {
      "text/plain": [
       "2×2 Array{Float64,2}:\n",
       " 0.718554   0.783272\n",
       " 0.0796566  0.927715"
      ]
     },
     "execution_count": 2,
     "metadata": {},
     "output_type": "execute_result"
    }
   ],
   "source": [
    "Ix = rand(2,2)"
   ]
  },
  {
   "cell_type": "code",
   "execution_count": 3,
   "metadata": {
    "Collapsed": "false"
   },
   "outputs": [
    {
     "data": {
      "text/plain": [
       "4-element FlatMap{2×2 map, 1′ pixels, fourier∂, Array{Float64}}:\n",
       " 0.7185537948681697 \n",
       " 0.07965658845377166\n",
       " 0.783271558132157  \n",
       " 0.9277154735380295 "
      ]
     },
     "execution_count": 3,
     "metadata": {},
     "output_type": "execute_result"
    }
   ],
   "source": [
    "f = FlatMap(Ix)"
   ]
  },
  {
   "cell_type": "markdown",
   "metadata": {
    "Collapsed": "false"
   },
   "source": [
    "When displayed, you can see the pixels in the 2x2 map have been splayed out into a length-4 array. This is intentional, as even though the maps themselves are two-dimensional, it is extremely useful conceptually to think of fields as vectors (which they are, in fact, as they form an [abstract vector space](https://en.wikipedia.org/wiki/Vector_space)). This tie to vector spaces is deeply rooted in CMBLensing, to the extent that `Field` objects are a subtype of Julia's own `AbstractVector` type, "
   ]
  },
  {
   "cell_type": "code",
   "execution_count": 4,
   "metadata": {
    "Collapsed": "false"
   },
   "outputs": [
    {
     "data": {
      "text/plain": [
       "true"
      ]
     },
     "execution_count": 4,
     "metadata": {},
     "output_type": "execute_result"
    }
   ],
   "source": [
    "f isa AbstractVector"
   ]
  },
  {
   "cell_type": "markdown",
   "metadata": {
    "Collapsed": "false"
   },
   "source": [
    "The data itself, however, is still stored as the original 2x2 matrix, and can be accessed as follows,"
   ]
  },
  {
   "cell_type": "code",
   "execution_count": 5,
   "metadata": {
    "Collapsed": "false"
   },
   "outputs": [
    {
     "data": {
      "text/plain": [
       "2×2 Array{Float64,2}:\n",
       " 0.718554   0.783272\n",
       " 0.0796566  0.927715"
      ]
     },
     "execution_count": 5,
     "metadata": {},
     "output_type": "execute_result"
    }
   ],
   "source": [
    "f.Ix"
   ]
  },
  {
   "cell_type": "markdown",
   "metadata": {
    "Collapsed": "false"
   },
   "source": [
    "But since `Fields` are vectors, they can be tranposed,"
   ]
  },
  {
   "cell_type": "code",
   "execution_count": 6,
   "metadata": {
    "Collapsed": "false"
   },
   "outputs": [
    {
     "data": {
      "text/plain": [
       "1×4 LinearAlgebra.Adjoint{Float64,FlatMap{2×2 map, 1′ pixels, fourier∂, Array{Float64}}}:\n",
       " 0.718554  0.0796566  0.783272  0.927715"
      ]
     },
     "execution_count": 6,
     "metadata": {},
     "output_type": "execute_result"
    }
   ],
   "source": [
    "f'"
   ]
  },
  {
   "cell_type": "markdown",
   "metadata": {
    "Collapsed": "false"
   },
   "source": [
    "inner products can be computed,"
   ]
  },
  {
   "cell_type": "code",
   "execution_count": 7,
   "metadata": {
    "Collapsed": "false"
   },
   "outputs": [
    {
     "data": {
      "text/plain": [
       "1.689640956312564e-7"
      ]
     },
     "execution_count": 7,
     "metadata": {},
     "output_type": "execute_result"
    }
   ],
   "source": [
    "f' * f"
   ]
  },
  {
   "cell_type": "markdown",
   "metadata": {
    "Collapsed": "false"
   },
   "source": [
    "and they can be added with each other as well as multiplied by scalars,"
   ]
  },
  {
   "cell_type": "code",
   "execution_count": 8,
   "metadata": {
    "Collapsed": "false"
   },
   "outputs": [
    {
     "data": {
      "text/plain": [
       "4-element FlatMap{2×2 map, 1′ pixels, fourier∂, Array{Float64}}:\n",
       " 2.1556613846045094 \n",
       " 0.23896976536131498\n",
       " 2.349814674396471  \n",
       " 2.783146420614089  "
      ]
     },
     "execution_count": 8,
     "metadata": {},
     "output_type": "execute_result"
    }
   ],
   "source": [
    "2*f+f"
   ]
  },
  {
   "cell_type": "markdown",
   "metadata": {
    "Collapsed": "false"
   },
   "source": [
    "## Diagonal operators"
   ]
  },
  {
   "cell_type": "markdown",
   "metadata": {
    "Collapsed": "false"
   },
   "source": [
    "Vector spaces have linear operators which act on the vectors. Linear operators correpsond to matrices, thus for a map with $N$ total pixels, a general linear operator would be an $N$-by-$N$ matrix, which for even modest map sizes becomes far too large to actually store. Thus, an important class of linear operators are ones which are diagonal, since these can actually be stored. CMBLensing uses Julia's builtin `Diagonal` to represent these. `Diagonal(f)` takes a vector `f` and puts it on the diagonal of the matrix:"
   ]
  },
  {
   "cell_type": "code",
   "execution_count": 9,
   "metadata": {
    "Collapsed": "false"
   },
   "outputs": [
    {
     "data": {
      "text/plain": [
       "4×4 Diagonal{Float64,FlatMap{2×2 map, 1′ pixels, fourier∂, Array{Float64}}}:\n",
       " 0.718554   ⋅          ⋅         ⋅      \n",
       "  ⋅        0.0796566   ⋅         ⋅      \n",
       "  ⋅         ⋅         0.783272   ⋅      \n",
       "  ⋅         ⋅          ⋅        0.927715"
      ]
     },
     "execution_count": 9,
     "metadata": {},
     "output_type": "execute_result"
    }
   ],
   "source": [
    "Diagonal(f)"
   ]
  },
  {
   "cell_type": "markdown",
   "metadata": {
    "Collapsed": "false"
   },
   "source": [
    "Multiplying this operator by the original map is then a matrix-vector product:"
   ]
  },
  {
   "cell_type": "code",
   "execution_count": 10,
   "metadata": {
    "Collapsed": "false"
   },
   "outputs": [
    {
     "data": {
      "text/plain": [
       "4-element FlatMap{2×2 map, 1′ pixels, fourier∂, Array{Float64}}:\n",
       " 0.5163195561194477  \n",
       " 0.006345172084093549\n",
       " 0.613514333778777   \n",
       " 0.8606559998418903  "
      ]
     },
     "execution_count": 10,
     "metadata": {},
     "output_type": "execute_result"
    }
   ],
   "source": [
    "Diagonal(f) * f"
   ]
  },
  {
   "cell_type": "markdown",
   "metadata": {
    "Collapsed": "false"
   },
   "source": [
    "Note that this is also equal to the the pointwise multiplication of `f` with itself:"
   ]
  },
  {
   "cell_type": "code",
   "execution_count": 11,
   "metadata": {
    "Collapsed": "false"
   },
   "outputs": [
    {
     "data": {
      "text/plain": [
       "4-element FlatMap{2×2 map, 1′ pixels, fourier∂, Array{Float64}}:\n",
       " 0.5163195561194477  \n",
       " 0.006345172084093549\n",
       " 0.613514333778777   \n",
       " 0.8606559998418903  "
      ]
     },
     "execution_count": 11,
     "metadata": {},
     "output_type": "execute_result"
    }
   ],
   "source": [
    "f .* f"
   ]
  },
  {
   "cell_type": "markdown",
   "metadata": {
    "Collapsed": "false"
   },
   "source": [
    "## Field Tuples"
   ]
  },
  {
   "cell_type": "markdown",
   "metadata": {
    "Collapsed": "false"
   },
   "source": [
    "You can put `Fields` together into tuples. For example, "
   ]
  },
  {
   "cell_type": "code",
   "execution_count": 12,
   "metadata": {
    "Collapsed": "false"
   },
   "outputs": [],
   "source": [
    "a = FlatMap(rand(2,2))\n",
    "b = FlatMap(rand(2,2));"
   ]
  },
  {
   "cell_type": "code",
   "execution_count": 13,
   "metadata": {
    "Collapsed": "false"
   },
   "outputs": [
    {
     "data": {
      "text/plain": [
       "8-element Field2Tuple{CMBLensing.BasisTuple{Tuple{Map,Map}}, Float64}:\n",
       " 0.983644462883015    \n",
       " 0.0045112141819265705\n",
       " 0.7624669319673323   \n",
       " 0.42287235402564716  \n",
       " 0.012913662988633723 \n",
       " 0.575161408331945    \n",
       " 0.9879403809696659   \n",
       " 0.7462386479019307   "
      ]
     },
     "execution_count": 13,
     "metadata": {},
     "output_type": "execute_result"
    }
   ],
   "source": [
    "FieldTuple(a,b)"
   ]
  },
  {
   "cell_type": "markdown",
   "metadata": {
    "Collapsed": "false"
   },
   "source": [
    "The components can also have names:"
   ]
  },
  {
   "cell_type": "code",
   "execution_count": 14,
   "metadata": {
    "Collapsed": "false"
   },
   "outputs": [
    {
     "data": {
      "text/plain": [
       "8-element Field2Tuple{(:a, :b), CMBLensing.BasisTuple{Tuple{Map,Map}}, Float64}:\n",
       " 0.983644462883015    \n",
       " 0.0045112141819265705\n",
       " 0.7624669319673323   \n",
       " 0.42287235402564716  \n",
       " 0.012913662988633723 \n",
       " 0.575161408331945    \n",
       " 0.9879403809696659   \n",
       " 0.7462386479019307   "
      ]
     },
     "execution_count": 14,
     "metadata": {},
     "output_type": "execute_result"
    }
   ],
   "source": [
    "ft = FieldTuple(a=a, b=b)"
   ]
  },
  {
   "cell_type": "markdown",
   "metadata": {
    "Collapsed": "false"
   },
   "source": [
    "which can be accessed later:"
   ]
  },
  {
   "cell_type": "code",
   "execution_count": 15,
   "metadata": {
    "Collapsed": "false"
   },
   "outputs": [
    {
     "data": {
      "text/plain": [
       "4-element FlatMap{2×2 map, 1′ pixels, fourier∂, Array{Float64}}:\n",
       " 0.983644462883015    \n",
       " 0.0045112141819265705\n",
       " 0.7624669319673323   \n",
       " 0.42287235402564716  "
      ]
     },
     "execution_count": 15,
     "metadata": {},
     "output_type": "execute_result"
    }
   ],
   "source": [
    "ft.a"
   ]
  },
  {
   "cell_type": "markdown",
   "metadata": {
    "Collapsed": "false"
   },
   "source": [
    "`FieldTuples` have all of the same behavior of individual fields. Indeed, spin fields like QU or IQU are simply special `FieldTuples`:"
   ]
  },
  {
   "cell_type": "code",
   "execution_count": 16,
   "metadata": {
    "Collapsed": "false"
   },
   "outputs": [
    {
     "data": {
      "text/plain": [
       "true"
      ]
     },
     "execution_count": 16,
     "metadata": {},
     "output_type": "execute_result"
    }
   ],
   "source": [
    "fqu = FlatQUMap(a,b)\n",
    "fqu isa FieldTuple"
   ]
  },
  {
   "cell_type": "markdown",
   "metadata": {
    "Collapsed": "false"
   },
   "source": [
    "## Field Vectors"
   ]
  },
  {
   "cell_type": "markdown",
   "metadata": {
    "Collapsed": "false"
   },
   "source": [
    "*in progress*"
   ]
  },
  {
   "cell_type": "markdown",
   "metadata": {
    "Collapsed": "false"
   },
   "source": [
    "## Basis Conversion"
   ]
  },
  {
   "cell_type": "markdown",
   "metadata": {
    "Collapsed": "false"
   },
   "source": [
    "All fields are tagged as to which basis they are stored in. You can convert them to other bases by calling the basis type on them:"
   ]
  },
  {
   "cell_type": "code",
   "execution_count": 17,
   "metadata": {
    "Collapsed": "false"
   },
   "outputs": [
    {
     "data": {
      "text/plain": [
       "4-element FlatMap{2×2 map, 1′ pixels, fourier∂, Array{Float64}}:\n",
       " 0.7185537948681697 \n",
       " 0.07965658845377166\n",
       " 0.783271558132157  \n",
       " 0.9277154735380295 "
      ]
     },
     "execution_count": 17,
     "metadata": {},
     "output_type": "execute_result"
    }
   ],
   "source": [
    "f"
   ]
  },
  {
   "cell_type": "code",
   "execution_count": 18,
   "metadata": {
    "Collapsed": "false"
   },
   "outputs": [
    {
     "data": {
      "text/plain": [
       "4-element FlatFourier{2×2 map, 1′ pixels, fourier∂, Array{Complex{Float64}}}:\n",
       "   2.509197414992128 + 0.0im\n",
       " 0.49445329100852553 + 0.0im\n",
       " -0.9127766483482451 + 0.0im\n",
       "  0.7833411218202706 + 0.0im"
      ]
     },
     "execution_count": 18,
     "metadata": {},
     "output_type": "execute_result"
    }
   ],
   "source": [
    "f′ = Fourier(f)"
   ]
  },
  {
   "cell_type": "markdown",
   "metadata": {
    "Collapsed": "false"
   },
   "source": [
    "Basis conversion is usually done automatically for you. E.g. here `f′` is automatically converted to a `FlatMap` before addition:"
   ]
  },
  {
   "cell_type": "code",
   "execution_count": 19,
   "metadata": {
    "Collapsed": "false"
   },
   "outputs": [
    {
     "data": {
      "text/plain": [
       "4-element FlatMap{2×2 map, 1′ pixels, fourier∂, Array{Float64}}:\n",
       " 1.4371075897363395 \n",
       " 0.15931317690754337\n",
       " 1.566543116264314  \n",
       " 1.855430947076059  "
      ]
     },
     "execution_count": 19,
     "metadata": {},
     "output_type": "execute_result"
    }
   ],
   "source": [
    "f + f′"
   ]
  },
  {
   "cell_type": "markdown",
   "metadata": {
    "Collapsed": "false"
   },
   "source": [
    "A key feature of `Diagonal` operators is they convert the field they are acting on to the right basis before multiplication:"
   ]
  },
  {
   "cell_type": "code",
   "execution_count": 20,
   "metadata": {
    "Collapsed": "false"
   },
   "outputs": [
    {
     "data": {
      "text/plain": [
       "4-element FlatMap{2×2 map, 1′ pixels, fourier∂, Array{Float64}}:\n",
       " 0.5163195561194477  \n",
       " 0.006345172084093553\n",
       " 0.6135143337787771  \n",
       " 0.8606559998418905  "
      ]
     },
     "execution_count": 20,
     "metadata": {},
     "output_type": "execute_result"
    }
   ],
   "source": [
    "Diagonal(f) * f′"
   ]
  },
  {
   "cell_type": "markdown",
   "metadata": {
    "Collapsed": "false"
   },
   "source": [
    "A `FlatMap` times a `FlatFourier` doesn't have a natural linear algebra meaning so its an error:"
   ]
  },
  {
   "cell_type": "code",
   "execution_count": 21,
   "metadata": {
    "Collapsed": "false"
   },
   "outputs": [
    {
     "ename": "MethodError",
     "evalue": "MethodError: no method matching *(::FlatMap{2×2 map, 1′ pixels, fourier∂, Array{Float64}}, ::FlatFourier{2×2 map, 1′ pixels, fourier∂, Array{Complex{Float64}}})\nClosest candidates are:\n  *(::Any, ::Any, !Matched::Any, !Matched::Any...) at operators.jl:529\n  *(!Matched::FuncOp, ::Field) at /home/marius/work/baylens/src/specialops.jl:116\n  *(!Matched::NoLensing, ::Field) at /home/marius/work/baylens/src/lensing.jl:62\n  ...",
     "output_type": "error",
     "traceback": [
      "MethodError: no method matching *(::FlatMap{2×2 map, 1′ pixels, fourier∂, Array{Float64}}, ::FlatFourier{2×2 map, 1′ pixels, fourier∂, Array{Complex{Float64}}})\nClosest candidates are:\n  *(::Any, ::Any, !Matched::Any, !Matched::Any...) at operators.jl:529\n  *(!Matched::FuncOp, ::Field) at /home/marius/work/baylens/src/specialops.jl:116\n  *(!Matched::NoLensing, ::Field) at /home/marius/work/baylens/src/lensing.jl:62\n  ...",
      "",
      "Stacktrace:",
      " [1] top-level scope at In[21]:1"
     ]
    }
   ],
   "source": [
    "f * f′"
   ]
  },
  {
   "cell_type": "markdown",
   "metadata": {
    "Collapsed": "false"
   },
   "source": [
    "## Properties and indices"
   ]
  },
  {
   "cell_type": "markdown",
   "metadata": {
    "Collapsed": "false"
   },
   "source": [
    "`FlatMap` and `FlatFourier` can be indexed directly like arrays. If given 1D indices, this is the index into the vector representation:"
   ]
  },
  {
   "cell_type": "code",
   "execution_count": 22,
   "metadata": {
    "Collapsed": "false"
   },
   "outputs": [
    {
     "data": {
      "text/plain": [
       "4-element FlatMap{2×2 map, 1′ pixels, fourier∂, Array{Float64}}:\n",
       " 0.7185537948681697 \n",
       " 0.07965658845377166\n",
       " 0.783271558132157  \n",
       " 0.9277154735380295 "
      ]
     },
     "execution_count": 22,
     "metadata": {},
     "output_type": "execute_result"
    }
   ],
   "source": [
    "f"
   ]
  },
  {
   "cell_type": "code",
   "execution_count": 23,
   "metadata": {
    "Collapsed": "false"
   },
   "outputs": [
    {
     "data": {
      "text/plain": [
       "(0.7185537948681697, 0.07965658845377166, 0.783271558132157, 0.9277154735380295)"
      ]
     },
     "execution_count": 23,
     "metadata": {},
     "output_type": "execute_result"
    }
   ],
   "source": [
    "f[1], f[2], f[3], f[4]"
   ]
  },
  {
   "cell_type": "code",
   "execution_count": 24,
   "metadata": {
    "Collapsed": "false"
   },
   "outputs": [
    {
     "ename": "BoundsError",
     "evalue": "BoundsError: attempt to access 2×2 Array{Float64,2} at index [5]",
     "output_type": "error",
     "traceback": [
      "BoundsError: attempt to access 2×2 Array{Float64,2} at index [5]",
      "",
      "Stacktrace:",
      " [1] getindex at ./array.jl:744 [inlined]",
      " [2] getindex(::FlatMap{2×2 map, 1′ pixels, fourier∂, Array{Float64}}, ::Int64) at /home/marius/work/baylens/src/flat_s0.jl:43",
      " [3] top-level scope at In[24]:1"
     ]
    }
   ],
   "source": [
    "f[5]"
   ]
  },
  {
   "cell_type": "markdown",
   "metadata": {
    "Collapsed": "false"
   },
   "source": [
    "Or with a 2D index, this indexes directly into the 2D map:"
   ]
  },
  {
   "cell_type": "code",
   "execution_count": 25,
   "metadata": {
    "Collapsed": "false"
   },
   "outputs": [
    {
     "data": {
      "text/plain": [
       "(0.7185537948681697, 0.07965658845377166, 0.783271558132157, 0.9277154735380295)"
      ]
     },
     "execution_count": 25,
     "metadata": {},
     "output_type": "execute_result"
    }
   ],
   "source": [
    "f[1,1], f[2,1], f[1,2], f[2,2]"
   ]
  },
  {
   "cell_type": "markdown",
   "metadata": {
    "Collapsed": "false"
   },
   "source": [
    "*Note:* there is no overhead to indexing `f` in this way as compared to working directly on the underlying array."
   ]
  },
  {
   "cell_type": "markdown",
   "metadata": {
    "Collapsed": "false"
   },
   "source": [
    "For other fields which are built on `FieldTuples`, 1D indexing will instead index the tuple indices:"
   ]
  },
  {
   "cell_type": "code",
   "execution_count": 26,
   "metadata": {
    "Collapsed": "false"
   },
   "outputs": [
    {
     "data": {
      "text/plain": [
       "8-element Field2Tuple{(:a, :b), CMBLensing.BasisTuple{Tuple{Map,Map}}, Float64}:\n",
       " 0.983644462883015    \n",
       " 0.0045112141819265705\n",
       " 0.7624669319673323   \n",
       " 0.42287235402564716  \n",
       " 0.012913662988633723 \n",
       " 0.575161408331945    \n",
       " 0.9879403809696659   \n",
       " 0.7462386479019307   "
      ]
     },
     "execution_count": 26,
     "metadata": {},
     "output_type": "execute_result"
    }
   ],
   "source": [
    "ft"
   ]
  },
  {
   "cell_type": "code",
   "execution_count": 27,
   "metadata": {
    "Collapsed": "false"
   },
   "outputs": [
    {
     "data": {
      "text/plain": [
       "4-element FlatMap{2×2 map, 1′ pixels, fourier∂, Array{Float64}}:\n",
       " 0.983644462883015    \n",
       " 0.0045112141819265705\n",
       " 0.7624669319673323   \n",
       " 0.42287235402564716  "
      ]
     },
     "execution_count": 27,
     "metadata": {},
     "output_type": "execute_result"
    }
   ],
   "source": [
    "ft[1]"
   ]
  },
  {
   "cell_type": "code",
   "execution_count": 28,
   "metadata": {
    "Collapsed": "false"
   },
   "outputs": [
    {
     "data": {
      "text/plain": [
       "4-element FlatMap{2×2 map, 1′ pixels, fourier∂, Array{Float64}}:\n",
       " 0.012913662988633723\n",
       " 0.575161408331945   \n",
       " 0.9879403809696659  \n",
       " 0.7462386479019307  "
      ]
     },
     "execution_count": 28,
     "metadata": {},
     "output_type": "execute_result"
    }
   ],
   "source": [
    "ft[2]"
   ]
  },
  {
   "cell_type": "code",
   "execution_count": 29,
   "metadata": {
    "Collapsed": "false"
   },
   "outputs": [
    {
     "ename": "BoundsError",
     "evalue": "BoundsError: attempt to access NamedTuple{(:a, :b),Tuple{FlatMap{2×2 map, 1′ pixels, fourier∂, Array{Float64}},FlatMap{2×2 map, 1′ pixels, fourier∂, Array{Float64}}}}\n  at index [3]",
     "output_type": "error",
     "traceback": [
      "BoundsError: attempt to access NamedTuple{(:a, :b),Tuple{FlatMap{2×2 map, 1′ pixels, fourier∂, Array{Float64}},FlatMap{2×2 map, 1′ pixels, fourier∂, Array{Float64}}}}\n  at index [3]",
      "",
      "Stacktrace:",
      " [1] getindex at ./namedtuple.jl:106 [inlined]",
      " [2] getindex(::Field2Tuple{(:a, :b), CMBLensing.BasisTuple{Tuple{Map,Map}}, Float64}, ::Int64) at /home/marius/work/baylens/src/field_tuples.jl:47",
      " [3] top-level scope at In[29]:1"
     ]
    }
   ],
   "source": [
    "ft[3]"
   ]
  },
  {
   "cell_type": "markdown",
   "metadata": {
    "Collapsed": "false"
   },
   "source": [
    "To get the underlying data arrays, use the object's properties:"
   ]
  },
  {
   "cell_type": "code",
   "execution_count": 30,
   "metadata": {
    "Collapsed": "false"
   },
   "outputs": [
    {
     "data": {
      "text/plain": [
       "2×2 Array{Float64,2}:\n",
       " 0.718554   0.783272\n",
       " 0.0796566  0.927715"
      ]
     },
     "execution_count": 30,
     "metadata": {},
     "output_type": "execute_result"
    }
   ],
   "source": [
    "f.Ix"
   ]
  },
  {
   "cell_type": "markdown",
   "metadata": {
    "Collapsed": "false"
   },
   "source": [
    "You can always find out what properties are available by typing `f.<Tab>`. For example, if you typed `ft` then hit `<Tab>` you'd get:"
   ]
  },
  {
   "cell_type": "code",
   "execution_count": 31,
   "metadata": {
    "Collapsed": "false"
   },
   "outputs": [
    {
     "data": {
      "text/plain": [
       "(:fs, :a, :b)"
      ]
     },
     "execution_count": 31,
     "metadata": {},
     "output_type": "execute_result"
    }
   ],
   "source": [
    "ft |> propertynames"
   ]
  },
  {
   "cell_type": "markdown",
   "metadata": {
    "Collapsed": "false"
   },
   "source": [
    "For a `FieldTuple` like the `FlatQUMap` object, `fqu`, you can get each individual Q or U field:"
   ]
  },
  {
   "cell_type": "code",
   "execution_count": 32,
   "metadata": {
    "Collapsed": "false"
   },
   "outputs": [
    {
     "data": {
      "text/plain": [
       "4-element FlatMap{2×2 map, 1′ pixels, fourier∂, Array{Float64}}:\n",
       " 0.983644462883015    \n",
       " 0.0045112141819265705\n",
       " 0.7624669319673323   \n",
       " 0.42287235402564716  "
      ]
     },
     "execution_count": 32,
     "metadata": {},
     "output_type": "execute_result"
    }
   ],
   "source": [
    "fqu.Q"
   ]
  },
  {
   "cell_type": "markdown",
   "metadata": {
    "Collapsed": "false"
   },
   "source": [
    "Or `fqu.Qx` which is shorthand for `fqu.Q.Ix`:"
   ]
  },
  {
   "cell_type": "code",
   "execution_count": 33,
   "metadata": {
    "Collapsed": "false"
   },
   "outputs": [
    {
     "data": {
      "text/plain": [
       "true"
      ]
     },
     "execution_count": 33,
     "metadata": {},
     "output_type": "execute_result"
    }
   ],
   "source": [
    "fqu.Q.Ix === fqu.Qx"
   ]
  },
  {
   "cell_type": "markdown",
   "metadata": {
    "Collapsed": "false"
   },
   "source": [
    "If you convert `f` to Fourier space, it would have the `Il` property to get the Fourier coefficients of the $I$ component:"
   ]
  },
  {
   "cell_type": "code",
   "execution_count": 34,
   "metadata": {
    "Collapsed": "false"
   },
   "outputs": [
    {
     "data": {
      "text/plain": [
       "2×2 Array{Complex{Float64},2}:\n",
       "   2.5092+0.0im  -0.912777+0.0im\n",
       " 0.494453+0.0im   0.783341+0.0im"
      ]
     },
     "execution_count": 34,
     "metadata": {},
     "output_type": "execute_result"
    }
   ],
   "source": [
    "Fourier(f).Il"
   ]
  },
  {
   "cell_type": "markdown",
   "metadata": {
    "Collapsed": "false"
   },
   "source": [
    "For convenience, you can index fields with brackets `[]` and any necessary conversions will be done automatically:"
   ]
  },
  {
   "cell_type": "code",
   "execution_count": 35,
   "metadata": {
    "Collapsed": "false"
   },
   "outputs": [
    {
     "data": {
      "text/plain": [
       "2×2 Array{Complex{Float64},2}:\n",
       "   2.5092+0.0im  -0.912777+0.0im\n",
       " 0.494453+0.0im   0.783341+0.0im"
      ]
     },
     "execution_count": 35,
     "metadata": {},
     "output_type": "execute_result"
    }
   ],
   "source": [
    "f[:Il]"
   ]
  },
  {
   "cell_type": "markdown",
   "metadata": {
    "Collapsed": "false"
   },
   "source": [
    "This works between any bases. For example. `fqu` is originally `QUMap` but we can convert to `EBFourier` and get the `El` coefficients:"
   ]
  },
  {
   "cell_type": "code",
   "execution_count": 36,
   "metadata": {
    "Collapsed": "false"
   },
   "outputs": [
    {
     "data": {
      "text/plain": [
       "2×2 Array{Complex{Float64},2}:\n",
       " -2.17349-0.0im  0.197184+0.0im\n",
       "  1.31873+0.0im  0.803949+0.0im"
      ]
     },
     "execution_count": 36,
     "metadata": {},
     "output_type": "execute_result"
    }
   ],
   "source": [
    "fqu[:El]"
   ]
  },
  {
   "cell_type": "markdown",
   "metadata": {
    "Collapsed": "false"
   },
   "source": [
    "The general rule to keep in mind for these two ways of accessing the underlying data is:\n",
    "\n",
    "* **Properties** (i.e. `f.Ix`) are type-stable and get you the underlying data arrays, even recursively from special `FieldTuples` like `FlatQUMap`, etc... If these arrays are modified, they affect the original field.\n",
    "* **Indices** (i.e. `f[:Ix]`) are not type-stable, and may or may not be one of the underlying data arrays (because a basis conversion may have been performed). They should be used for getting (not setting) data, and in non-performance-critical code. "
   ]
  }
 ],
 "metadata": {
  "kernelspec": {
   "display_name": "Julia 1.3.0",
   "language": "julia",
   "name": "julia-1.3"
  },
  "language_info": {
   "file_extension": ".jl",
   "mimetype": "application/julia",
   "name": "julia",
   "version": "1.3.0"
  }
 },
 "nbformat": 4,
 "nbformat_minor": 4
}
